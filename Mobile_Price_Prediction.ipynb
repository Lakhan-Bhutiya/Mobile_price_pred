{
 "cells": [
  {
   "cell_type": "code",
   "execution_count": 15,
   "id": "414cad43-1fcc-491b-b044-94228ea6e3e1",
   "metadata": {},
   "outputs": [
    {
     "name": "stdout",
     "output_type": "stream",
     "text": [
      "Predicted Price: 5385\n",
      "True Price: 5000\n"
     ]
    }
   ],
   "source": [
    "# Take one random row from test set\n",
    "sample = X_test.iloc[0:1]\n",
    "predicted_price = model.predict(sample)[0]\n",
    "\n",
    "print(\"Predicted Price:\", int(predicted_price))\n",
    "print(\"True Price:\", int(y_test.iloc[0]))\n"
   ]
  },
  {
   "cell_type": "code",
   "execution_count": 19,
   "id": "da6b9253-4798-435a-8ce4-613a5aabb6f4",
   "metadata": {},
   "outputs": [
    {
     "name": "stdout",
     "output_type": "stream",
     "text": [
      "✅ Model saved as mobile_price_model.pkl\n"
     ]
    }
   ],
   "source": [
    "import joblib\n",
    "joblib.dump(model, \"mobile_price_model.pkl\")\n",
    "print(\"✅ Model saved as mobile_price_model.pkl\")"
   ]
  },
  {
   "cell_type": "code",
   "execution_count": 23,
   "id": "5707a95c-f02c-4670-ad26-28d0da33ae2b",
   "metadata": {},
   "outputs": [
    {
     "name": "stdout",
     "output_type": "stream",
     "text": [
      "✅ Model trained and saved as mobile_price_model.pkl\n"
     ]
    }
   ],
   "source": [
    "# train_model.py\n",
    "import pandas as pd\n",
    "from sklearn.ensemble import RandomForestRegressor\n",
    "import joblib\n",
    "\n",
    "# ------------------------------\n",
    "# Load dataset\n",
    "# ------------------------------\n",
    "df = pd.read_csv(r\"C:\\Users\\lakha\\Downloads\\train.csv\")\n",
    "\n",
    "# Convert class labels → numeric INR prices\n",
    "price_map = {0: 5000, 1: 12000, 2: 25000, 3: 60000}\n",
    "df[\"price\"] = df[\"price_range\"].map(price_map)\n",
    "\n",
    "# Select only the features we’ll use in Streamlit\n",
    "selected_features = [\n",
    "    \"battery_power\", \"ram\", \"int_memory\", \"px_height\",\n",
    "    \"px_width\", \"talk_time\", \"mobile_wt\", \"n_cores\"\n",
    "]\n",
    "\n",
    "X = df[selected_features]\n",
    "y = df[\"price\"]\n",
    "\n",
    "# Train Random Forest Regressor\n",
    "model = RandomForestRegressor(n_estimators=200, random_state=42)\n",
    "model.fit(X, y)\n",
    "\n",
    "# Save model and feature list\n",
    "joblib.dump(model, \"mobile_price_model.pkl\")\n",
    "joblib.dump(selected_features, \"selected_features.pkl\")\n",
    "\n",
    "print(\"✅ Model trained and saved as mobile_price_model.pkl\")\n"
   ]
  },
  {
   "cell_type": "code",
   "execution_count": 27,
   "id": "3a061f40-3bf8-449f-9b4b-4a56175c4053",
   "metadata": {},
   "outputs": [
    {
     "name": "stdout",
     "output_type": "stream",
     "text": [
      "✅ Classification model saved as mobile_price_classifier.pkl\n"
     ]
    }
   ],
   "source": [
    "# train_model.py\n",
    "import pandas as pd\n",
    "from sklearn.ensemble import RandomForestClassifier\n",
    "import joblib\n",
    "\n",
    "# Load dataset\n",
    "df = pd.read_csv()\n",
    "\n",
    "# Features and target\n",
    "X = df.drop(\"price_range\", axis=1)\n",
    "y = df[\"price_range\"]\n",
    "\n",
    "# Train a RandomForestClassifier\n",
    "clf = RandomForestClassifier(n_estimators=200, random_state=42)\n",
    "clf.fit(X, y)\n",
    "\n",
    "# Save classifier\n",
    "joblib.dump(clf, \"mobile_price_classifier.pkl\")\n",
    "joblib.dump(X.columns.tolist(), \"feature_names.pkl\")\n",
    "\n",
    "print(\"✅ Classification model saved as mobile_price_classifier.pkl\")\n"
   ]
  },
  {
   "cell_type": "code",
   "execution_count": 39,
   "id": "e08dacc8-0eca-4c7e-ac54-c20f98208081",
   "metadata": {},
   "outputs": [
    {
     "name": "stdout",
     "output_type": "stream",
     "text": [
      "✅ Model and scaler saved successfully!\n"
     ]
    }
   ],
   "source": [
    "# train_model.py\n",
    "import pandas as pd\n",
    "import joblib\n",
    "from sklearn.model_selection import train_test_split\n",
    "from sklearn.preprocessing import StandardScaler\n",
    "from sklearn.linear_model import LinearRegression\n",
    "\n",
    "# Load dataset\n",
    "df = pd.read_csv(r\"C:\\Users\\lakha\\Downloads\\Cellphone.csv\")   # <-- change filename if needed\n",
    "\n",
    "# Drop Product_id and Sale (not useful features)\n",
    "X = df.drop(columns=[\"Product_id\", \"Price\", \"Sale\"])\n",
    "y = df[\"Price\"]\n",
    "\n",
    "# Scale features\n",
    "scaler = StandardScaler()\n",
    "X_scaled = scaler.fit_transform(X)\n",
    "\n",
    "# Train/test split\n",
    "# X_train, X_test, y_train, y_test = train_test_split(\n",
    "#     X_scaled, y, test_size=0.2, random_state=42\n",
    "# )\n",
    "\n",
    "# Train regression model\n",
    "model = LinearRegression()\n",
    "model.fit(X_scaled, y)\n",
    "\n",
    "# Save model + scaler + feature names\n",
    "joblib.dump(model, \"price_model.pkl\")\n",
    "joblib.dump(scaler, \"scaler.pkl\")\n",
    "joblib.dump(X.columns.tolist(), \"feature_names.pkl\")\n",
    "\n",
    "print(\"✅ Model and scaler saved successfully!\")\n"
   ]
  },
  {
   "cell_type": "code",
   "execution_count": null,
   "id": "7ca7f362-dc6b-4963-8968-3a356b79df81",
   "metadata": {},
   "outputs": [],
   "source": []
  }
 ],
 "metadata": {
  "kernelspec": {
   "display_name": "Python 3 (ipykernel)",
   "language": "python",
   "name": "python3"
  },
  "language_info": {
   "codemirror_mode": {
    "name": "ipython",
    "version": 3
   },
   "file_extension": ".py",
   "mimetype": "text/x-python",
   "name": "python",
   "nbconvert_exporter": "python",
   "pygments_lexer": "ipython3",
   "version": "3.12.7"
  }
 },
 "nbformat": 4,
 "nbformat_minor": 5
}
