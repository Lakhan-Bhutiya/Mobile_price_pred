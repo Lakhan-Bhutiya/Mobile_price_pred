{
 "cells": [
  {
   "cell_type": "code",
   "execution_count": 39,
   "id": "e08dacc8-0eca-4c7e-ac54-c20f98208081",
   "metadata": {},
   "outputs": [
    {
     "name": "stdout",
     "output_type": "stream",
     "text": [
      "✅ Model and scaler saved successfully!\n"
     ]
    }
   ],
   "source": [
    "# train_model.py\n",
    "import pandas as pd\n",
    "import joblib\n",
    "from sklearn.model_selection import train_test_split\n",
    "from sklearn.preprocessing import StandardScaler\n",
    "from sklearn.linear_model import LinearRegression\n",
    "\n",
    "# Load dataset\n",
    "df = pd.read_csv(r\"C:\\Users\\lakha\\Downloads\\Cellphone.csv\")   # <-- change filename if needed\n",
    "\n",
    "# Drop Product_id and Sale (not useful features)\n",
    "X = df.drop(columns=[\"Product_id\", \"Price\", \"Sale\"])\n",
    "y = df[\"Price\"]\n",
    "\n",
    "# Scale features\n",
    "scaler = StandardScaler()\n",
    "X_scaled = scaler.fit_transform(X)\n",
    "\n",
    "# Train/test split\n",
    "# X_train, X_test, y_train, y_test = train_test_split(\n",
    "#     X_scaled, y, test_size=0.2, random_state=42\n",
    "# )\n",
    "\n",
    "# Train regression model\n",
    "model = LinearRegression()\n",
    "model.fit(X_scaled, y)\n",
    "\n",
    "# Save model + scaler + feature names\n",
    "joblib.dump(model, \"price_model.pkl\")\n",
    "joblib.dump(scaler, \"scaler.pkl\")\n",
    "joblib.dump(X.columns.tolist(), \"feature_names.pkl\")\n",
    "\n",
    "print(\"✅ Model and scaler saved successfully!\")\n"
   ]
  },
  {
   "cell_type": "code",
   "execution_count": null,
   "id": "7ca7f362-dc6b-4963-8968-3a356b79df81",
   "metadata": {},
   "outputs": [],
   "source": []
  }
 ],
 "metadata": {
  "kernelspec": {
   "display_name": "Python 3 (ipykernel)",
   "language": "python",
   "name": "python3"
  },
  "language_info": {
   "codemirror_mode": {
    "name": "ipython",
    "version": 3
   },
   "file_extension": ".py",
   "mimetype": "text/x-python",
   "name": "python",
   "nbconvert_exporter": "python",
   "pygments_lexer": "ipython3",
   "version": "3.12.7"
  }
 },
 "nbformat": 4,
 "nbformat_minor": 5
}
